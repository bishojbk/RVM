{
 "cells": [
  {
   "cell_type": "code",
   "execution_count": 1,
   "metadata": {},
   "outputs": [],
   "source": [
    "import os\n",
    "import shutil"
   ]
  },
  {
   "cell_type": "code",
   "execution_count": 2,
   "metadata": {},
   "outputs": [],
   "source": [
    "# Define your directories\n",
    "base_dir = r'C:\\Users\\Bisoj Pc\\Downloads\\Bottles Sorting.v2i.yolov8\\train'  # The main directory containing images and labels\n",
    "image_dir = os.path.join(base_dir, 'images')  # Path to images folder\n",
    "label_dir = os.path.join(base_dir, 'labels')  # Path to labels folder\n",
    "\n",
    "# Directories to store separated images and labels\n",
    "plastic_images_dir = 'plastic_images'\n",
    "cans_images_dir = 'cans_images'\n",
    "plastic_labels_dir = 'plastic_labels'\n",
    "cans_labels_dir = 'cans_labels'"
   ]
  },
  {
   "cell_type": "code",
   "execution_count": 3,
   "metadata": {},
   "outputs": [],
   "source": [
    "\n",
    "# Create directories for separated images and labels if they don't exist\n",
    "os.makedirs(plastic_images_dir, exist_ok=True)\n",
    "os.makedirs(cans_images_dir, exist_ok=True)\n",
    "os.makedirs(plastic_labels_dir, exist_ok=True)\n",
    "os.makedirs(cans_labels_dir, exist_ok=True)"
   ]
  },
  {
   "cell_type": "code",
   "execution_count": 5,
   "metadata": {},
   "outputs": [
    {
     "name": "stdout",
     "output_type": "stream",
     "text": [
      "Separation of images and labels completed!\n"
     ]
    }
   ],
   "source": [
    "# Function to separate images and labels based on class ID\n",
    "def separate_images_and_labels():\n",
    "    # List all annotation files (assuming .txt format for annotations)\n",
    "    label_files = os.listdir(label_dir)\n",
    "    \n",
    "    for label_file in label_files:\n",
    "        # Construct full paths for label and image files\n",
    "        label_path = os.path.join(label_dir, label_file)\n",
    "        image_name = label_file.replace('.txt', '.jpg')  # Assuming .jpg for images\n",
    "        image_path = os.path.join(image_dir, image_name)\n",
    "        \n",
    "        # Open annotation file to read class IDs and object information\n",
    "        with open(label_path, 'r') as f:\n",
    "            annotations = f.readlines()  # Read all lines, each line is an annotation for one object\n",
    "        \n",
    "        # Check each annotation in the file\n",
    "        for annotation in annotations:\n",
    "            # Extract the class ID (assuming class ID is the first value in the annotation)\n",
    "            class_id = int(annotation.split()[0])  # Class ID is assumed to be the first element in the line\n",
    "            \n",
    "            # Check the class ID and move the image and label accordingly\n",
    "            if class_id == 0:  # Cans (class ID 0)\n",
    "                shutil.copy(image_path, os.path.join(cans_images_dir, image_name))\n",
    "                shutil.copy(label_path, os.path.join(cans_labels_dir, label_file))\n",
    "                break  # No need to check further once we move the image to the cans folder\n",
    "            elif class_id == 1:  # Plastic (class ID 1)\n",
    "                shutil.copy(image_path, os.path.join(plastic_images_dir, image_name))\n",
    "                shutil.copy(label_path, os.path.join(plastic_labels_dir, label_file))\n",
    "                break  # No need to check further once we move the image to the plastic folder\n",
    "\n",
    "# Run the function\n",
    "separate_images_and_labels()\n",
    "\n",
    "print(\"Separation of images and labels completed!\")"
   ]
  }
 ],
 "metadata": {
  "kernelspec": {
   "display_name": "Python 3",
   "language": "python",
   "name": "python3"
  },
  "language_info": {
   "codemirror_mode": {
    "name": "ipython",
    "version": 3
   },
   "file_extension": ".py",
   "mimetype": "text/x-python",
   "name": "python",
   "nbconvert_exporter": "python",
   "pygments_lexer": "ipython3",
   "version": "3.13.1"
  }
 },
 "nbformat": 4,
 "nbformat_minor": 2
}
