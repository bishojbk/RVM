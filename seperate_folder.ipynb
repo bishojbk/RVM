{
 "cells": [
  {
   "cell_type": "code",
   "execution_count": 1,
   "metadata": {},
   "outputs": [],
   "source": [
    "import os\n",
    "import shutil"
   ]
  },
  {
   "cell_type": "code",
   "execution_count": 2,
   "metadata": {},
   "outputs": [],
   "source": [
    "# Define your directories\n",
    "base_dir = r'C:\\Users\\Bisoj Pc\\Downloads\\Bottles Sorting.v2i.yolov8\\train'  # The main directory containing images and labels\n",
    "image_dir = os.path.join(base_dir, 'images')  # Path to images folder\n",
    "label_dir = os.path.join(base_dir, 'labels')  # Path to labels folder\n",
    "\n",
    "# Directories to store separated images and labels\n",
    "plastic_images_dir = 'plastic_images'\n",
    "cans_images_dir = 'cans_images'\n",
    "plastic_labels_dir = 'plastic_labels'\n",
    "cans_labels_dir = 'cans_labels'"
   ]
  },
  {
   "cell_type": "code",
   "execution_count": 3,
   "metadata": {},
   "outputs": [],
   "source": [
    "\n",
    "# Create directories for separated images and labels if they don't exist\n",
    "os.makedirs(plastic_images_dir, exist_ok=True)\n",
    "os.makedirs(cans_images_dir, exist_ok=True)\n",
    "os.makedirs(plastic_labels_dir, exist_ok=True)\n",
    "os.makedirs(cans_labels_dir, exist_ok=True)"
   ]
  }
 ],
 "metadata": {
  "kernelspec": {
   "display_name": "Python 3",
   "language": "python",
   "name": "python3"
  },
  "language_info": {
   "codemirror_mode": {
    "name": "ipython",
    "version": 3
   },
   "file_extension": ".py",
   "mimetype": "text/x-python",
   "name": "python",
   "nbconvert_exporter": "python",
   "pygments_lexer": "ipython3",
   "version": "3.13.1"
  }
 },
 "nbformat": 4,
 "nbformat_minor": 2
}
